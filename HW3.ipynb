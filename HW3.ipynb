{
 "cells": [
  {
   "cell_type": "code",
   "execution_count": 4,
   "id": "f37b0718-596d-426e-9041-9c505fa94e04",
   "metadata": {},
   "outputs": [
    {
     "name": "stdin",
     "output_type": "stream",
     "text": [
      " 8\n"
     ]
    },
    {
     "name": "stdout",
     "output_type": "stream",
     "text": [
      "8 có là lũy thừa của 2 không?\n",
      "True\n"
     ]
    }
   ],
   "source": [
    "#W3A3\n",
    "n=int(input())\n",
    "def luythua(n):\n",
    "    if n<=0:\n",
    "        return False\n",
    "    return (n&(n-1)==0)\n",
    "print(n,'có là lũy thừa của 2 không?')\n",
    "print(f'{luythua(n)}')"
   ]
  },
  {
   "cell_type": "code",
   "execution_count": 23,
   "id": "d3ac9995-5836-411e-a0df-9496fb2e711f",
   "metadata": {},
   "outputs": [
    {
     "name": "stdin",
     "output_type": "stream",
     "text": [
      " 10 3\n"
     ]
    },
    {
     "name": "stdout",
     "output_type": "stream",
     "text": [
      "3\n"
     ]
    }
   ],
   "source": [
    "#W3A4:\n",
    "m,n=map(int,input().split())\n",
    "a=m//n\n",
    "print(a)"
   ]
  },
  {
   "cell_type": "code",
   "execution_count": 22,
   "id": "66334689-299b-4c2c-98dc-42a2209f1745",
   "metadata": {},
   "outputs": [
    {
     "name": "stdin",
     "output_type": "stream",
     "text": [
      " 10 3\n"
     ]
    },
    {
     "name": "stdout",
     "output_type": "stream",
     "text": [
      "4\n"
     ]
    }
   ],
   "source": [
    "#W3A5:\n",
    "m,n=map(int,input().split())\n",
    "a=(m//n)+1\n",
    "print(a)"
   ]
  },
  {
   "cell_type": "code",
   "execution_count": 9,
   "id": "b8102c5b-564f-41f1-8043-f88ebdaee715",
   "metadata": {},
   "outputs": [
    {
     "name": "stdin",
     "output_type": "stream",
     "text": [
      "Nhập số nguyên dương n: 9\n"
     ]
    },
    {
     "name": "stdout",
     "output_type": "stream",
     "text": [
      "Odd\n"
     ]
    }
   ],
   "source": [
    "#W3A6:\n",
    "x=int(input('Nhập số nguyên dương n:'))\n",
    "if x%2==0:\n",
    "    print('Even')\n",
    "else:\n",
    "    print('Odd')"
   ]
  },
  {
   "cell_type": "code",
   "execution_count": 11,
   "id": "ba76bf9d-bf35-4aa5-ab24-de5b5d5afd0b",
   "metadata": {},
   "outputs": [
    {
     "name": "stdin",
     "output_type": "stream",
     "text": [
      "Nhập hai số nguyên a,b: -6 5\n"
     ]
    },
    {
     "name": "stdout",
     "output_type": "stream",
     "text": [
      "No\n"
     ]
    }
   ],
   "source": [
    "#W3A7:\n",
    "a,b=map(int,input('Nhập hai số nguyên a,b:').split())\n",
    "if a<0 and b<0:\n",
    "    print('Yes')\n",
    "else:\n",
    "    print('No')"
   ]
  },
  {
   "cell_type": "code",
   "execution_count": 13,
   "id": "ddf3308e-1d78-4bdc-9bf7-62f181a8c815",
   "metadata": {},
   "outputs": [
    {
     "name": "stdin",
     "output_type": "stream",
     "text": [
      "Nhập chuỗi a: abcdefghik\n",
      "Nhập chuỗi b: jklmnopqrst\n"
     ]
    },
    {
     "name": "stdout",
     "output_type": "stream",
     "text": [
      "False\n"
     ]
    }
   ],
   "source": [
    "#W3A8:\n",
    "a=list(input('Nhập chuỗi a:'))\n",
    "b=list(input('Nhập chuỗi b:'))\n",
    "if len(a)>len(b):\n",
    "    print('True')\n",
    "else:\n",
    "    print('False')"
   ]
  },
  {
   "cell_type": "code",
   "execution_count": 15,
   "id": "3d85c211-6332-4236-b577-cfaf16dac28d",
   "metadata": {},
   "outputs": [
    {
     "name": "stdin",
     "output_type": "stream",
     "text": [
      "Nhập 3 cạnh a,b,c: 3 4 5\n"
     ]
    },
    {
     "name": "stdout",
     "output_type": "stream",
     "text": [
      "Yes\n"
     ]
    }
   ],
   "source": [
    "#W3A9:\n",
    "a,b,c=map(int,input('Nhập 3 cạnh a,b,c:').split())\n",
    "if a>0 and b>0 and c>0 and a+b>c and c+b>a and a+c>b:\n",
    "    print('Yes')\n",
    "else:\n",
    "    print('No')"
   ]
  },
  {
   "cell_type": "code",
   "execution_count": 16,
   "id": "cab3781a-dfb0-4cfe-b29e-e4a4f6c83b8e",
   "metadata": {},
   "outputs": [
    {
     "name": "stdin",
     "output_type": "stream",
     "text": [
      "Nhập các số nguyên: 9 10 8 12\n"
     ]
    },
    {
     "name": "stdout",
     "output_type": "stream",
     "text": [
      "Số nguyên lớn nhất: 12\n"
     ]
    }
   ],
   "source": [
    "#W3A10\n",
    "num=list(map(int,input('Nhập các số nguyên:').split()))\n",
    "for i in range(0,len(num)):\n",
    "    nmax=num[0]\n",
    "    if num[i]>nmax:\n",
    "        nmax=num[i]\n",
    "print('Số nguyên lớn nhất:',nmax)"
   ]
  },
  {
   "cell_type": "code",
   "execution_count": 17,
   "id": "ceda6a13-b9ae-46b3-b44c-3fe1660a8970",
   "metadata": {},
   "outputs": [
    {
     "name": "stdin",
     "output_type": "stream",
     "text": [
      "Nhập 3 cạnh a,b,c: 3 4 5\n"
     ]
    },
    {
     "name": "stdout",
     "output_type": "stream",
     "text": [
      "Tam giác thường\n"
     ]
    }
   ],
   "source": [
    "#W3A11:\n",
    "a,b,c=map(int,input('Nhập 3 cạnh a,b,c:').split())\n",
    "if a>0 and b>0 and c>0 and a+b>c and c+b>a and a+c>b:\n",
    "    if a==b==c:\n",
    "        print('Tam giác đều')\n",
    "    if a==b or a==c or b==c:\n",
    "        print('Tam giác cân')\n",
    "    else:\n",
    "        print('Tam giác thường')\n",
    "else:\n",
    "    print('Không phải tam giác')"
   ]
  },
  {
   "cell_type": "code",
   "execution_count": 18,
   "id": "0a6f16c5-324c-4704-9e2f-40ded7cd6d70",
   "metadata": {},
   "outputs": [
    {
     "name": "stdin",
     "output_type": "stream",
     "text": [
      "Nhập số năm: 2024\n"
     ]
    },
    {
     "name": "stdout",
     "output_type": "stream",
     "text": [
      "Yes\n"
     ]
    }
   ],
   "source": [
    "#W3A12:\n",
    "n=int(input('Nhập số năm:'))\n",
    "if n%4==0 and n%100!=0 or n%400==0:\n",
    "    print('Yes')\n",
    "else:\n",
    "    print('No')"
   ]
  },
  {
   "cell_type": "code",
   "execution_count": 24,
   "id": "4e707223-910d-4afa-adad-3fc9811bb3f1",
   "metadata": {},
   "outputs": [
    {
     "name": "stdin",
     "output_type": "stream",
     "text": [
      " 5 6\n"
     ]
    },
    {
     "name": "stdout",
     "output_type": "stream",
     "text": [
      "Giải phương trình bậc nhất\n",
      "5x+6=0\n",
      "Phương trình có 1 nghiệm là -1.20\n"
     ]
    }
   ],
   "source": [
    "#W3A14:\n",
    "a,b=map(int,input().split())\n",
    "print('Giải phương trình bậc nhất')\n",
    "print(f'{a}x+{b}=0')\n",
    "if a==0:\n",
    "    print('Phương trình vô nghiệm')\n",
    "if a==0 and b==0:\n",
    "    print('Phương trình vô số nghiệm')\n",
    "else:\n",
    "    c=-b/a\n",
    "    print('Phương trình có 1 nghiệm là',f'{c:.2f}')"
   ]
  },
  {
   "cell_type": "code",
   "execution_count": 26,
   "id": "a5afe983-830e-46a7-b45c-61c3434a0654",
   "metadata": {},
   "outputs": [
    {
     "name": "stdin",
     "output_type": "stream",
     "text": [
      "Nhập điểm của học sinh: 8.9\n"
     ]
    },
    {
     "name": "stdout",
     "output_type": "stream",
     "text": [
      "Học lực Giỏi\n"
     ]
    }
   ],
   "source": [
    "#W3A15:\n",
    "d=float(input('Nhập điểm của học sinh:'))\n",
    "if d>=8.0:\n",
    "    print('Học lực Giỏi')\n",
    "if d>=6.5 and d<8.0:\n",
    "    print('Học lực Khá')\n",
    "if d>=5.0 and d<6.5:\n",
    "    print('Học lực Trung bình')\n",
    "if d<5.0:\n",
    "    print('Học lực Yếu')"
   ]
  },
  {
   "cell_type": "code",
   "execution_count": 34,
   "id": "bf3b0d97-5639-4976-8349-03abba7b1a10",
   "metadata": {},
   "outputs": [
    {
     "name": "stdin",
     "output_type": "stream",
     "text": [
      "Nhập số thực 4.6\n"
     ]
    },
    {
     "name": "stdout",
     "output_type": "stream",
     "text": [
      "Làm tròn lên 5.0\n",
      "Làm tròn xuống 4.0\n"
     ]
    }
   ],
   "source": [
    "#W3A16:\n",
    "n=float(input('Nhập số thực'))\n",
    "nl=n-(n-n//1)+1\n",
    "nx=n-(n-n//1)\n",
    "print('Làm tròn lên',nl)\n",
    "print('Làm tròn xuống',nx)"
   ]
  },
  {
   "cell_type": "code",
   "execution_count": 36,
   "id": "54627af9-6c29-4d23-a26c-3dbb38a5ebe2",
   "metadata": {},
   "outputs": [
    {
     "name": "stdin",
     "output_type": "stream",
     "text": [
      "Nhập các số: 2 4 8 16\n"
     ]
    },
    {
     "name": "stdout",
     "output_type": "stream",
     "text": [
      "Cấp số nhân có công bội 2\n"
     ]
    }
   ],
   "source": [
    "#W3A17:\n",
    "a,b,c,d=map(float,input('Nhập các số:').split())\n",
    "k=b/a\n",
    "q=int(q)\n",
    "if b*q==c and c*q==d:\n",
    "    print('Cấp số nhân có công bội',q)\n",
    "if b%a!=0:\n",
    "    print('Không phải cấp số nhân')"
   ]
  }
 ],
 "metadata": {
  "kernelspec": {
   "display_name": "Python [conda env:base] *",
   "language": "python",
   "name": "conda-base-py"
  },
  "language_info": {
   "codemirror_mode": {
    "name": "ipython",
    "version": 3
   },
   "file_extension": ".py",
   "mimetype": "text/x-python",
   "name": "python",
   "nbconvert_exporter": "python",
   "pygments_lexer": "ipython3",
   "version": "3.13.5"
  }
 },
 "nbformat": 4,
 "nbformat_minor": 5
}
