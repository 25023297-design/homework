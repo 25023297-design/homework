{
 "cells": [
  {
   "cell_type": "code",
   "execution_count": 3,
   "id": "13b26c79-1a5d-4e7c-80c2-a33819282a40",
   "metadata": {},
   "outputs": [
    {
     "name": "stdin",
     "output_type": "stream",
     "text": [
      "Nhập 2 cạnh của một hình chữ nhật: 2 5\n"
     ]
    },
    {
     "name": "stdout",
     "output_type": "stream",
     "text": [
      "Diện tích hình chữ nhật là: 10.0\n",
      "Chu vi hình chữ nhật là: 14.0\n"
     ]
    }
   ],
   "source": [
    "#Bai1:\n",
    "a,b=map(float,input('Nhập 2 cạnh của một hình chữ nhật:').split())\n",
    "S=a*b\n",
    "C=(a+b)*2\n",
    "print('Diện tích hình chữ nhật là:',S)\n",
    "print('Chu vi hình chữ nhật là:',C)"
   ]
  },
  {
   "cell_type": "code",
   "execution_count": 9,
   "id": "147f7be3-026c-46bd-aa78-9e2efae67c28",
   "metadata": {},
   "outputs": [
    {
     "name": "stdin",
     "output_type": "stream",
     "text": [
      "Nhập bán kính của đường tròn: 2.5\n"
     ]
    },
    {
     "name": "stdout",
     "output_type": "stream",
     "text": [
      "Diện tích đường tròn: 19.63\n",
      "Chu vi đường tròn: 15.71\n"
     ]
    }
   ],
   "source": [
    "#Bai2:\n",
    "r=float(input('Nhập bán kính của đường tròn:'))\n",
    "import math\n",
    "a=math.pi\n",
    "S=a*(r**2)\n",
    "C=2*a*r\n",
    "print('Diện tích đường tròn:',f'{S:.2f}')\n",
    "print('Chu vi đường tròn:',f'{C:.2f}')"
   ]
  },
  {
   "cell_type": "code",
   "execution_count": 17,
   "id": "4879fd43-d430-432b-888d-a4417f097f28",
   "metadata": {},
   "outputs": [
    {
     "name": "stdin",
     "output_type": "stream",
     "text": [
      "Nhập 3 cạnh của tam giác: 2 3 4 \n"
     ]
    },
    {
     "name": "stdout",
     "output_type": "stream",
     "text": [
      "Tam giác có diện tích: 2.90\n",
      "Tam giác có chu vi: 9.0\n"
     ]
    }
   ],
   "source": [
    "#Bai3:\n",
    "a,b,c=map(float,input('Nhập 3 cạnh của tam giác:').split())\n",
    "import math\n",
    "C=a+b+c\n",
    "p=C/2\n",
    "S=math.sqrt(p*(p-a)*(p-b)*(p-c))\n",
    "if a>0 and b>0 and c>0 and a+b>c and b+c>a and a+c>b:\n",
    "    if a==b==c:\n",
    "        print('Tam giác đều có diện tích:',f'{S:.2f}')\n",
    "        print('Tam giác đều có chu vi:',C)\n",
    "    if a==b or b==c or c==a:\n",
    "        print('Tam giác cân có diện tích:',f'{S:.2f}')\n",
    "        print('Tam giác cân có chu vi:',C)\n",
    "    if a**2+b**2==c**2 or a**2+c**2==b**2 or b**2+c**2==a**2:\n",
    "        print('Tam giác vuông có diện tích:',f'{S:.2f}')\n",
    "        print('Tam giác vuông có chu vi:',C)\n",
    "    else:\n",
    "        print('Tam giác có diện tích:',f'{S:.2f}')\n",
    "        print('Tam giác có chu vi:',C)\n",
    "else:\n",
    "    print('Không là ba cạnh của một tam giác')"
   ]
  },
  {
   "cell_type": "code",
   "execution_count": 21,
   "id": "f26ea85d-1586-4d10-956c-d98176d635ce",
   "metadata": {},
   "outputs": [
    {
     "name": "stdin",
     "output_type": "stream",
     "text": [
      "a b lần lượt là 2 3\n"
     ]
    },
    {
     "name": "stdout",
     "output_type": "stream",
     "text": [
      "Giải phương trình bậc 1 ax+b=0\n",
      "Phương trình có nghiệm là x= 1.5\n"
     ]
    }
   ],
   "source": [
    "#Bai4:\n",
    "a,b=map(float,input('a b lần lượt là').split())\n",
    "print('Giải phương trình bậc 1 ax+b=0')\n",
    "if a==0:\n",
    "    print('Phương trình vô nghiệm')\n",
    "x=b/a\n",
    "if a!=0:\n",
    "    print('Phương trình có nghiệm là x=',x)"
   ]
  },
  {
   "cell_type": "code",
   "execution_count": 30,
   "id": "afe3aae4-e852-4dca-b30c-7b54c6063649",
   "metadata": {},
   "outputs": [
    {
     "name": "stdin",
     "output_type": "stream",
     "text": [
      "a b c lần lượt là 2 4 5\n"
     ]
    },
    {
     "name": "stdout",
     "output_type": "stream",
     "text": [
      "Giải phương trình bậc 2 ax^2+bx+c=0\n",
      "Phương trình vô nghiệm\n"
     ]
    }
   ],
   "source": [
    "#Bai5:\n",
    "a,b,c=map(float,input('a b c lần lượt là').split())\n",
    "print('Giải phương trình bậc 2 ax^2+bx+c=0')\n",
    "import math\n",
    "d=b**2-4*a*c\n",
    "if a==0:\n",
    "    print('Đây là phương trình bậc nhất')\n",
    "    if b==0:\n",
    "        if c==0:\n",
    "            print('Phương trình có nghiệm là x=0')\n",
    "        else:\n",
    "            print('Phương trình vô nghiệm')\n",
    "else:\n",
    "    if d>0:\n",
    "        e=math.sqrt(d)\n",
    "        x1=(-b+e)/(2*a)\n",
    "        x2=(-b-e)/(2*a)\n",
    "        print('Phương trình có 2 nghiệm phân biệt:',x1,x2)\n",
    "    if d==0:\n",
    "        x=-b/(2*a)\n",
    "        print('Phương trình có nghiệm kép:',x)\n",
    "    if d<0:\n",
    "        print('Phương trình vô nghiệm')"
   ]
  },
  {
   "cell_type": "code",
   "execution_count": 33,
   "id": "297e61c6-54de-4c51-816c-50134d928eac",
   "metadata": {},
   "outputs": [
    {
     "name": "stdin",
     "output_type": "stream",
     "text": [
      "Nhập 4 số a,b,c,d: 3 4 5 9\n"
     ]
    },
    {
     "name": "stdout",
     "output_type": "stream",
     "text": [
      "Giá trị lớn nhất trong 4 số: 9.0\n"
     ]
    }
   ],
   "source": [
    "#Bai6:\n",
    "num=list(map(float,input('Nhập 4 số a,b,c,d:').split()))\n",
    "nmax=num[0]\n",
    "for i in range(0,len(num)):\n",
    "    if num[i]>nmax:\n",
    "        nmax=num[i]\n",
    "print('Giá trị lớn nhất trong 4 số:',nmax)"
   ]
  },
  {
   "cell_type": "code",
   "execution_count": 35,
   "id": "64848b3f-8280-453f-96c3-3ae077162b96",
   "metadata": {},
   "outputs": [
    {
     "name": "stdin",
     "output_type": "stream",
     "text": [
      "Nhập 4 số a,b,c,d: 4 5 6 1\n"
     ]
    },
    {
     "name": "stdout",
     "output_type": "stream",
     "text": [
      "Giá trị nhỏ nhất trong 4 số: 1.0\n"
     ]
    }
   ],
   "source": [
    "#Bai7:\n",
    "num=list(map(float,input('Nhập 4 số a,b,c,d:').split()))\n",
    "nmin=num[0]\n",
    "for i in range(0,len(num)):\n",
    "    if num[i]<nmax:\n",
    "        nmin=num[i]\n",
    "print('Giá trị nhỏ nhất trong 4 số:',nmin)"
   ]
  },
  {
   "cell_type": "code",
   "execution_count": 41,
   "id": "138930be-92d6-46ee-ab90-69e8a66f3dfc",
   "metadata": {},
   "outputs": [
    {
     "name": "stdin",
     "output_type": "stream",
     "text": [
      " 1 2 3 4 5 6\n"
     ]
    },
    {
     "name": "stdout",
     "output_type": "stream",
     "text": [
      "Giải hệ phương trình tuyến tính:\n",
      "1.0x+2.0y=5.0\n",
      "3.0x+4.0y=6.0\n",
      "Hệ phương trình có nghiệm duy nhất x= -4.0 và y= 4.5\n"
     ]
    }
   ],
   "source": [
    "#Bai8:\n",
    "a,b,c,d,m,n=map(float,input().split())\n",
    "print('Giải hệ phương trình tuyến tính:')\n",
    "print(f'{a}x+{b}y={m}')\n",
    "print(f'{c}x+{d}y={n}')\n",
    "D=a*d-b*c\n",
    "Dx=m*d-b*n\n",
    "Dy=a*n-m*c\n",
    "if D!=0:\n",
    "    x=Dx/D\n",
    "    y=Dy/D\n",
    "    print('Hệ phương trình có nghiệm duy nhất','x=',x,'và y=',y)\n",
    "if D==0 and Dx==0 and Dy==0:\n",
    "    print('Hệ phương trình có vô số nghiệm')\n",
    "if D==0 and Dx==0 or Dy==0:\n",
    "    print('Hệ phương trình vô nghiệm')"
   ]
  },
  {
   "cell_type": "code",
   "execution_count": 44,
   "id": "b9930871-149a-40af-879c-228814c3e5ea",
   "metadata": {},
   "outputs": [
    {
     "name": "stdin",
     "output_type": "stream",
     "text": [
      " 3600\n"
     ]
    },
    {
     "name": "stdout",
     "output_type": "stream",
     "text": [
      "Thời gian chơi game là 3600.0 giây\n",
      "Thời gian chơi game là 3600.0 giây\n",
      "Thời gian chơi game là 1.00 giờ\n",
      "Thời gian chơi game là 60.00 phút\n"
     ]
    }
   ],
   "source": [
    "#Bai9:\n",
    "x=float(input())\n",
    "print('Thời gian chơi game là',x,'giây')\n",
    "h=x/3600\n",
    "m=x/60\n",
    "print('Thời gian chơi game là',x,'giây')\n",
    "print('Thời gian chơi game là',f'{h:.2f}','giờ')\n",
    "print('Thời gian chơi game là',f'{m:.2f}','phút')"
   ]
  },
  {
   "cell_type": "code",
   "execution_count": 48,
   "id": "8f8d06db-4de9-447b-b725-a457627a3095",
   "metadata": {},
   "outputs": [
    {
     "name": "stdin",
     "output_type": "stream",
     "text": [
      " 1 2 3 \n"
     ]
    },
    {
     "name": "stdout",
     "output_type": "stream",
     "text": [
      "Đường tròn có tâm là I( 1.0 , 2.0 ) và bán kính 3.0\n"
     ]
    },
    {
     "name": "stdin",
     "output_type": "stream",
     "text": [
      " 5 6\n"
     ]
    },
    {
     "name": "stdout",
     "output_type": "stream",
     "text": [
      "Điểm A( 5.0 , 6.0 ) không thuộc đường tròn\n"
     ]
    }
   ],
   "source": [
    "#Bai10:\n",
    "x,y,r=map(float,input().split())\n",
    "print('Đường tròn có tâm là I(',x,',',y,')','và bán kính',r)\n",
    "x1,y1=map(float,input().split())\n",
    "a=x1-x\n",
    "b=y1-y\n",
    "if a**2+b**2==r**2:\n",
    "    print('Điểm A(',x1,',',y1,') thuộc đường tròn')\n",
    "else:\n",
    "    print('Điểm A(',x1,',',y1,') không thuộc đường tròn')"
   ]
  },
  {
   "cell_type": "code",
   "execution_count": 50,
   "id": "4fd2e97c-17ab-4abd-8ade-269c2a8ab9c0",
   "metadata": {},
   "outputs": [
    {
     "name": "stdin",
     "output_type": "stream",
     "text": [
      " 2 2.2\n"
     ]
    },
    {
     "name": "stdout",
     "output_type": "stream",
     "text": [
      "4.59\n"
     ]
    }
   ],
   "source": [
    "#Bai11:\n",
    "x,y=map(float,input().split())\n",
    "a=x**y\n",
    "print(f'{a:.2f}')"
   ]
  }
 ],
 "metadata": {
  "kernelspec": {
   "display_name": "Python [conda env:base] *",
   "language": "python",
   "name": "conda-base-py"
  },
  "language_info": {
   "codemirror_mode": {
    "name": "ipython",
    "version": 3
   },
   "file_extension": ".py",
   "mimetype": "text/x-python",
   "name": "python",
   "nbconvert_exporter": "python",
   "pygments_lexer": "ipython3",
   "version": "3.13.5"
  }
 },
 "nbformat": 4,
 "nbformat_minor": 5
}
