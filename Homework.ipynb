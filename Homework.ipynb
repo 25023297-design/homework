{
 "cells": [
  {
   "cell_type": "code",
   "execution_count": 5,
   "id": "6de60ea3-7068-473b-a7f6-acefa925e737",
   "metadata": {},
   "outputs": [
    {
     "name": "stdin",
     "output_type": "stream",
     "text": [
      "Nhập vào số nguyên n: 5\n"
     ]
    },
    {
     "name": "stdout",
     "output_type": "stream",
     "text": [
      "10\n"
     ]
    }
   ],
   "source": [
    "#Bai1 \n",
    "n=int(input('Nhập vào số nguyên n:'))\n",
    "print(2*n)"
   ]
  },
  {
   "cell_type": "code",
   "execution_count": 9,
   "id": "e3cd95e2-56cf-4b3b-a75a-e9b26017c149",
   "metadata": {},
   "outputs": [
    {
     "name": "stdin",
     "output_type": "stream",
     "text": [
      " 6 8\n"
     ]
    },
    {
     "name": "stdout",
     "output_type": "stream",
     "text": [
      "Diện tích trồng cây là 19.74\n"
     ]
    }
   ],
   "source": [
    "#Bai2\n",
    "a,b= map(int,input().split())\n",
    "s= a*b-3.14*(a/2)**2\n",
    "print('Diện tích trồng cây là',f'{s:.2f}')"
   ]
  },
  {
   "cell_type": "code",
   "execution_count": 22,
   "id": "bbe70af4-c41b-4ff6-b724-fab60f59b73c",
   "metadata": {},
   "outputs": [
    {
     "name": "stdin",
     "output_type": "stream",
     "text": [
      "Nhập ký tự: j\n"
     ]
    },
    {
     "name": "stdout",
     "output_type": "stream",
     "text": [
      "J\n"
     ]
    }
   ],
   "source": [
    "#Bai3\n",
    "c=input('Nhập ký tự:')\n",
    "C=int(ord(c))-32\n",
    "print(chr(C))"
   ]
  },
  {
   "cell_type": "code",
   "execution_count": 24,
   "id": "9093edec-3ec9-48aa-a226-56714aacdd72",
   "metadata": {},
   "outputs": [
    {
     "name": "stdin",
     "output_type": "stream",
     "text": [
      "Nhập ký tự: k\n"
     ]
    },
    {
     "name": "stdout",
     "output_type": "stream",
     "text": [
      "k là ký tự alphabet\n"
     ]
    }
   ],
   "source": [
    "#Bai4\n",
    "c=input('Nhập ký tự:')\n",
    "if c.isalpha():\n",
    "    print(c,'là ký tự alphabet')\n",
    "else:\n",
    "    print(c,'không phải là ký tự alphabet')"
   ]
  },
  {
   "cell_type": "code",
   "execution_count": 30,
   "id": "1b4c0f57-4ed7-45c4-a1c1-d5166c51f2a4",
   "metadata": {},
   "outputs": [
    {
     "name": "stdin",
     "output_type": "stream",
     "text": [
      "Nhập ký tự: H\n"
     ]
    },
    {
     "name": "stdout",
     "output_type": "stream",
     "text": [
      "g\n"
     ]
    }
   ],
   "source": [
    "#Bai5\n",
    "c=input('Nhập ký tự:')\n",
    "C=int(ord(c))+32-1\n",
    "print(chr(C))"
   ]
  },
  {
   "cell_type": "code",
   "execution_count": 35,
   "id": "0ad74600-a6ab-4dc1-b675-878655c90a91",
   "metadata": {},
   "outputs": [
    {
     "name": "stdin",
     "output_type": "stream",
     "text": [
      " 3 4 5\n"
     ]
    },
    {
     "name": "stdout",
     "output_type": "stream",
     "text": [
      "Diện tích tam giác là: 6.0\n"
     ]
    }
   ],
   "source": [
    "#Bai6\n",
    "a,b,c=map(int,input().split())\n",
    "import math\n",
    "if a+b>c and a+c>b and b+c>a and a>0 and b>0 and c>0:\n",
    "    p=(a+b+c)/2\n",
    "    S=math.sqrt(p*(p-a)*(p-b)*(p-c))\n",
    "    print('Diện tích tam giác là:',f'{S:.1f}')\n",
    "else:\n",
    "    print('Không phải 3 cạnh của tam giác')"
   ]
  },
  {
   "cell_type": "code",
   "execution_count": 1,
   "id": "879c0bac-6a7a-4ccb-8efb-5787639f04b0",
   "metadata": {},
   "outputs": [
    {
     "name": "stdin",
     "output_type": "stream",
     "text": [
      "Nhập chuỗi ký tự: abcdefghijklmnopqrstuv\n"
     ]
    },
    {
     "name": "stdout",
     "output_type": "stream",
     "text": [
      "Ký tự thứ 5 là: e\n",
      "Ký tự thứ 9 là: i\n"
     ]
    }
   ],
   "source": [
    "#Bai7\n",
    "chuoi=input('Nhập chuỗi ký tự:')\n",
    "if len(chuoi)>=20:\n",
    "    print('Ký tự thứ 5 là:',chuoi[4])\n",
    "    print('Ký tự thứ 9 là:',chuoi[8])"
   ]
  },
  {
   "cell_type": "code",
   "execution_count": 6,
   "id": "0f64aab4-3ba9-43b8-a30e-f072098855c5",
   "metadata": {},
   "outputs": [
    {
     "name": "stdin",
     "output_type": "stream",
     "text": [
      "Tên chủ hộ: Pham Xuan Toai\n",
      "Chỉ số tháng trước: 100\n",
      "Chỉ số tháng này: 500\n"
     ]
    },
    {
     "name": "stdout",
     "output_type": "stream",
     "text": [
      "Họ và tên Pham Xuan Toai\n",
      "Tiền phải trả là: 1534140.0\n"
     ]
    }
   ],
   "source": [
    "#Bai8\n",
    "ten=input('Tên chủ hộ:')\n",
    "cs1=int(input('Chỉ số tháng trước:'))\n",
    "cs2=int(input('Chỉ số tháng này:'))\n",
    "b1=1984\n",
    "b2=2050\n",
    "b3=2380\n",
    "b4=2998\n",
    "b5=3350\n",
    "b6=3460\n",
    "if cs2>50 and cs2<100:\n",
    "    tien=(50*b1+(cs2-50)*b2)*1.08\n",
    "    print('Họ và tên',ten)\n",
    "    print('Tiền phải trả là:',tien)\n",
    "if cs2>100 and cs2<200:\n",
    "    tien=(50*b1+50*b2+(cs2-100)*b3)*1.08\n",
    "    print('Họ và tên',ten)\n",
    "    print('Tiền phải trả là:',tien)\n",
    "if cs2>200 and cs2<300:\n",
    "    tien=(50*b1+50*b2+100*b3+(cs2-200)*b4)*1.08\n",
    "    print('Họ và tên',ten)\n",
    "    print('Tiền phải trả là:',tien)\n",
    "if cs2>300 and cs2<400:\n",
    "    tien=(50*b1+50*b2+100*b3+100*b4+(cs2-300)*b5)*1.08\n",
    "    print('Họ và tên',ten)\n",
    "    print('Tiền phải trả là:',tien)\n",
    "if cs2>400:\n",
    "    tien=(50*b1+50*b2+100*b3+100*b4+100*b5+(cs2-400)*b6)*1.08\n",
    "    print('Họ và tên',ten)\n",
    "    print('Tiền phải trả là:',tien)"
   ]
  },
  {
   "cell_type": "code",
   "execution_count": 7,
   "id": "a7b8d09a-b990-438a-ab11-490b36a8f77c",
   "metadata": {},
   "outputs": [
    {
     "name": "stdin",
     "output_type": "stream",
     "text": [
      "Nhập số nguyên: 10\n"
     ]
    },
    {
     "name": "stdout",
     "output_type": "stream",
     "text": [
      "10 là số chẵn\n"
     ]
    }
   ],
   "source": [
    "#BT1\n",
    "n=int(input('Nhập số nguyên:'))\n",
    "if n%2==0:\n",
    "    print(n,'là số chẵn')\n",
    "else:\n",
    "    print(n,'là số lẻ')"
   ]
  },
  {
   "cell_type": "code",
   "execution_count": 9,
   "id": "b236a9d3-4ed5-46b5-b291-3feaa9e8ba3f",
   "metadata": {},
   "outputs": [
    {
     "name": "stdin",
     "output_type": "stream",
     "text": [
      "Nhập số nguyên: 10\n"
     ]
    },
    {
     "name": "stdout",
     "output_type": "stream",
     "text": [
      "False\n"
     ]
    }
   ],
   "source": [
    "#BT2\n",
    "n=int(input('Nhập số nguyên:'))\n",
    "if n%10==5:\n",
    "    print('True')\n",
    "else:\n",
    "    print('False')"
   ]
  },
  {
   "cell_type": "code",
   "execution_count": 10,
   "id": "347b9bd0-2a8c-4b93-8663-45d5f5bb8eab",
   "metadata": {},
   "outputs": [
    {
     "name": "stdin",
     "output_type": "stream",
     "text": [
      "Nhập số nguyên: 125\n"
     ]
    },
    {
     "name": "stdout",
     "output_type": "stream",
     "text": [
      "False\n"
     ]
    }
   ],
   "source": [
    "#BT3\n",
    "n=int(input('Nhập số nguyên:'))\n",
    "if n%3==0 and n%5==0:\n",
    "    print('True')\n",
    "else:\n",
    "    print('False')"
   ]
  },
  {
   "cell_type": "code",
   "execution_count": 11,
   "id": "fbb46cca-f3e2-467d-ab0b-dadd29ad8de9",
   "metadata": {},
   "outputs": [
    {
     "name": "stdin",
     "output_type": "stream",
     "text": [
      "Nhập năm sinh: 2000\n"
     ]
    },
    {
     "name": "stdout",
     "output_type": "stream",
     "text": [
      "Đủ điều kiện để đi bầu cử\n"
     ]
    }
   ],
   "source": [
    "#BT4\n",
    "n=int(input('Nhập năm sinh:'))\n",
    "if 2025-n>=18:\n",
    "    print('Đủ điều kiện để đi bầu cử')\n",
    "else:\n",
    "    print('Chưa đủ điều kiện để đi bầu cử')"
   ]
  },
  {
   "cell_type": "code",
   "execution_count": 12,
   "id": "90b2c7a2-dfe0-45c6-ba88-fd3ff170e101",
   "metadata": {},
   "outputs": [
    {
     "name": "stdin",
     "output_type": "stream",
     "text": [
      "Nhập hai số: 5 6 \n"
     ]
    },
    {
     "name": "stdout",
     "output_type": "stream",
     "text": [
      "6\n"
     ]
    }
   ],
   "source": [
    "#BT5\n",
    "a,b=map(int,input('Nhập hai số:').split())\n",
    "if a>b:\n",
    "    print(a)\n",
    "if b>a:\n",
    "    print(b)\n",
    "if a==b:\n",
    "    print('Hai số bằng nhau')"
   ]
  },
  {
   "cell_type": "code",
   "execution_count": 13,
   "id": "cd28aa3b-e237-4234-a23d-f61fbd2ae7c5",
   "metadata": {},
   "outputs": [
    {
     "name": "stdin",
     "output_type": "stream",
     "text": [
      "Nhập ký tự: 7\n"
     ]
    },
    {
     "name": "stdout",
     "output_type": "stream",
     "text": [
      "Ký tự 7 là số\n"
     ]
    }
   ],
   "source": [
    "#BT6\n",
    "kt=input('Nhập ký tự:')\n",
    "if kt.isalpha():\n",
    "    print('Ký tự',kt,'là chữ cái')\n",
    "else:\n",
    "    print('Ký tự',kt,'là số')"
   ]
  },
  {
   "cell_type": "code",
   "execution_count": 17,
   "id": "c5a57ed7-82e5-475b-8b28-57b5d97e0f5d",
   "metadata": {},
   "outputs": [
    {
     "name": "stdin",
     "output_type": "stream",
     "text": [
      "Nhập điểm: 7.9\n"
     ]
    },
    {
     "name": "stdout",
     "output_type": "stream",
     "text": [
      "Học lực khá\n"
     ]
    }
   ],
   "source": [
    "#BT7\n",
    "diem=float(input('Nhập điểm:'))\n",
    "if diem>=8:\n",
    "    print('Học lực giỏi')\n",
    "if diem>=6.5 and diem<8:\n",
    "    print('Học lực khá')\n",
    "if diem>=5 and diem<6.5:\n",
    "    print('Học lực trung bình')\n",
    "if diem<5:\n",
    "    print('Học lực yếu')"
   ]
  },
  {
   "cell_type": "code",
   "execution_count": 20,
   "id": "d672a995-e31c-4f26-88d4-bb90edd5967d",
   "metadata": {},
   "outputs": [
    {
     "name": "stdin",
     "output_type": "stream",
     "text": [
      "Năm 2024\n"
     ]
    },
    {
     "name": "stdout",
     "output_type": "stream",
     "text": [
      "Năm 2024 là năm nhuận\n"
     ]
    }
   ],
   "source": [
    "#BT8\n",
    "nam=int(input('Năm'))\n",
    "if nam%400==0:\n",
    "    print('Năm',nam,'là năm nhuận')\n",
    "if nam%4==0 and nam%100!=0:\n",
    "    print('Năm',nam,'là năm nhuận')"
   ]
  },
  {
   "cell_type": "code",
   "execution_count": 22,
   "id": "91dd2bc3-2df6-47e8-98e2-431c2a4c23b9",
   "metadata": {},
   "outputs": [
    {
     "name": "stdin",
     "output_type": "stream",
     "text": [
      "Nhập số nguyên: 6\n"
     ]
    },
    {
     "name": "stdout",
     "output_type": "stream",
     "text": [
      "Sáu\n"
     ]
    }
   ],
   "source": [
    "#BT9\n",
    "n=int(input('Nhập số nguyên:'))\n",
    "match n:\n",
    "    case 0:\n",
    "        print('Không')\n",
    "    case 1:\n",
    "        print('Một')\n",
    "    case 2:\n",
    "        print('Hai')\n",
    "    case 3:\n",
    "        print('Ba')\n",
    "    case 4:\n",
    "        print('Bốn')\n",
    "    case 5:\n",
    "        print('Năm')\n",
    "    case 6:\n",
    "        print('Sáu')\n",
    "    case 7:\n",
    "        print('Bảy')\n",
    "    case 8:\n",
    "        print('Tám')\n",
    "    case 9:\n",
    "        print('Chín')"
   ]
  },
  {
   "cell_type": "code",
   "execution_count": 24,
   "id": "3231e7ac-1510-4b1e-ace9-26ee50d91940",
   "metadata": {},
   "outputs": [
    {
     "name": "stdin",
     "output_type": "stream",
     "text": [
      "Nhập điểm thi: 8.9\n"
     ]
    },
    {
     "name": "stdout",
     "output_type": "stream",
     "text": [
      "Qua môn\n"
     ]
    }
   ],
   "source": [
    "#BT10\n",
    "n=float(input('Nhập điểm thi:'))\n",
    "if n>=4:\n",
    "    print('Qua môn')\n",
    "else:\n",
    "    print('Học lại')"
   ]
  },
  {
   "cell_type": "code",
   "execution_count": 25,
   "id": "95208654-edc9-4c11-b07b-0e38b73d6142",
   "metadata": {},
   "outputs": [
    {
     "name": "stdin",
     "output_type": "stream",
     "text": [
      "Nhập năm sinh: 2000\n"
     ]
    },
    {
     "name": "stdout",
     "output_type": "stream",
     "text": [
      "25 tuổi\n",
      "Đủ 18 tuổi\n"
     ]
    }
   ],
   "source": [
    "#BT11:\n",
    "n=int(input('Nhập năm sinh:'))\n",
    "t=2025-n\n",
    "print(t,'tuổi')\n",
    "if t>=18:\n",
    "    print('Đủ 18 tuổi')\n",
    "else:\n",
    "    print('Chưa đủ 18 tuổi')"
   ]
  }
 ],
 "metadata": {
  "kernelspec": {
   "display_name": "Python [conda env:base] *",
   "language": "python",
   "name": "conda-base-py"
  },
  "language_info": {
   "codemirror_mode": {
    "name": "ipython",
    "version": 3
   },
   "file_extension": ".py",
   "mimetype": "text/x-python",
   "name": "python",
   "nbconvert_exporter": "python",
   "pygments_lexer": "ipython3",
   "version": "3.13.5"
  }
 },
 "nbformat": 4,
 "nbformat_minor": 5
}
